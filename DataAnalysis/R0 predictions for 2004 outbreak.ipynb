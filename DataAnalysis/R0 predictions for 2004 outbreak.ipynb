{
 "cells": [
  {
   "cell_type": "code",
   "execution_count": 1,
   "metadata": {},
   "outputs": [],
   "source": [
    "import numpy as np\n",
    "import matplotlib.pyplot as plt\n",
    "from scipy.integrate import odeint\n",
    "import math\n",
    "from scipy.interpolate import interp1d\n",
    "import seaborn as sns\n",
    "import pandas as pd\n",
    "from mpl_toolkits.mplot3d import Axes3D\n",
    "from matplotlib import cm\n",
    "from matplotlib.mlab import griddata\n",
    "from datetime import datetime\n",
    "from scipy import stats"
   ]
  },
  {
   "cell_type": "markdown",
   "metadata": {},
   "source": [
    "# Load posterior parameter distributions (from ABC) -- F04\n",
    "\n",
    "Fit gamma distribution to the posteriors"
   ]
  },
  {
   "cell_type": "code",
   "execution_count": 21,
   "metadata": {},
   "outputs": [],
   "source": [
    "Input_H = [1500,0,0,0]\n",
    "parameters = [Input_H]\n",
    "\n",
    "θ = np.load('ABC/ABC_season/theta_Season_F04_3.npy')"
   ]
  },
  {
   "cell_type": "code",
   "execution_count": 3,
   "metadata": {},
   "outputs": [],
   "source": [
    "a_β, loc_β, scale_β = stats.gamma.fit(θ[4][:,0])\n",
    "a_ϵ, loc_ϵ, scale_ϵ = stats.gamma.fit(θ[4][:,1])\n",
    "a_σ, loc_σ, scale_σ = stats.gamma.fit([1/a for a in θ[4][:,2]])\n",
    "a_μ1, loc_μ1, scale_μ1 = stats.gamma.fit([1/a for a in θ[4][:,3]])\n",
    "a_μ2, loc_μ2, scale_μ2 = stats.gamma.fit([1/a for a in θ[4][:,4]])"
   ]
  },
  {
   "cell_type": "markdown",
   "metadata": {},
   "source": [
    "# Use SEIR model -- split up rate from human to human and external"
   ]
  },
  {
   "cell_type": "code",
   "execution_count": 4,
   "metadata": {},
   "outputs": [],
   "source": [
    "def gillespieSEIR_season(initial, beta, mu1,mu2, sigma,epsilon):\n",
    "    event_time = []\n",
    "    pop = []\n",
    "    N = sum(initial)\n",
    "    pop.append(initial)\n",
    "    event_time.append(0)\n",
    "    times = 0\n",
    "    ind = 0\n",
    "    year = 1\n",
    "    cuminf = []\n",
    "    cuminf.append(0)\n",
    "    events = []\n",
    "    num_external= 0\n",
    "    num_internal = 0\n",
    "    Rtotal = 1\n",
    "    death = 0\n",
    "    while Rtotal>0:\n",
    "        state = np.zeros(shape= (4,12))\n",
    "        \n",
    "        ############################### Seasonality #######################################\n",
    "        if np.round(times)%365 <= 120:\n",
    "            E = epsilon\n",
    "        else:\n",
    "            E = 0\n",
    "        ####################################################################################\n",
    "        #################################### EVENTS ########################################\n",
    "        ####################################################################################    \n",
    "        \n",
    "        R_external = E*pop[ind][0]\n",
    "        state[:,0] = [-1,1,0,0]\n",
    "        \n",
    "        R_se = beta*(pop[ind][0])*(pop[ind][2])/N  \n",
    "        state[:,1] = [-1, 1, 0, 0]\n",
    "        \n",
    "        R_ei = sigma*pop[ind][1]\n",
    "        state[:,2] = [0, -1, 1, 0]\n",
    "        \n",
    "        R_ir = mu2*pop[ind][2]\n",
    "        state[:,3] = [0,0,-1,1]\n",
    "\n",
    "        R_is = mu1*pop[ind][2]\n",
    "        state[:,4] = [1,0,-1,0]\n",
    "        \n",
    "\n",
    "########################## RATES ##############################\n",
    "        rate = [R_external, R_se, R_ei,  R_ir,  R_is]\n",
    "        Rtotal = sum(rate)\n",
    "\n",
    "        delta_t= -np.log(np.random.uniform(0,1))/Rtotal\n",
    "        P = np.random.uniform(0,1)*Rtotal\n",
    "        \n",
    "        if Rtotal>0:\n",
    "            times =times+ delta_t\n",
    "            event = np.min(np.where(P<=np.cumsum(rate)))\n",
    "            events.append(event)\n",
    "            event_time.append(times)\n",
    "            pop.append(pop[ind]+state[:,event])\n",
    "            if event == 0:\n",
    "                num_external +=1\n",
    "            if event == 1:\n",
    "                num_internal +=1\n",
    "            if event == 3:\n",
    "                death +=1 \n",
    "            if event == 2:\n",
    "                cuminf.append(1 +cuminf[ind] )\n",
    "            else:\n",
    "                cuminf.append(0 +cuminf[ind])\n",
    "            ind=ind+1\n",
    "        N = sum(pop[ind][:2])\n",
    "    return event_time, np.array(pop), events, cuminf, num_external, num_internal, death"
   ]
  },
  {
   "cell_type": "markdown",
   "metadata": {},
   "source": [
    "# Run multiple stochastic simulations (1000)"
   ]
  },
  {
   "cell_type": "code",
   "execution_count": 5,
   "metadata": {},
   "outputs": [
    {
     "name": "stderr",
     "output_type": "stream",
     "text": [
      "/home/emma/.local/lib/python3.5/site-packages/ipykernel_launcher.py:49: RuntimeWarning: divide by zero encountered in double_scalars\n",
      "/home/emma/.local/lib/python3.5/site-packages/ipykernel_launcher.py:32: RuntimeWarning: invalid value encountered in double_scalars\n"
     ]
    }
   ],
   "source": [
    "external = []\n",
    "internal = []\n",
    "total = []\n",
    "death = []\n",
    "for k in range(1000):\n",
    "    beta = stats.gamma.rvs( a_β, loc_β, scale_β)\n",
    "    mu1 = 1/stats.gamma.rvs( a_μ1, loc_μ1, scale_μ1)\n",
    "    mu2 = 1/stats.gamma.rvs( a_μ2, loc_μ2, scale_μ2)\n",
    "    epsilon = stats.gamma.rvs( a_ϵ, loc_ϵ, scale_ϵ)\n",
    "    sigma = 1/stats.gamma.rvs( a_σ, loc_σ, scale_σ)\n",
    "    M=gillespieSEIR_season(parameters[0], beta, mu1,mu2,\n",
    "                          sigma,epsilon)\n",
    "    external.append(M[4])\n",
    "    internal.append(M[5])\n",
    "    total.append(M[3][-1])\n",
    "    death.append(M[6])"
   ]
  },
  {
   "cell_type": "code",
   "execution_count": 7,
   "metadata": {},
   "outputs": [
    {
     "name": "stdout",
     "output_type": "stream",
     "text": [
      "percent of fatal infections  49.71204509644757 %\n"
     ]
    }
   ],
   "source": [
    "print('percent of fatal infections ', 100*np.mean([death[a]/total[a] for a in range(len(death))]),'%')"
   ]
  },
  {
   "cell_type": "code",
   "execution_count": 8,
   "metadata": {},
   "outputs": [
    {
     "name": "stdout",
     "output_type": "stream",
     "text": [
      "percent of infections from external forcing 57.32441343018022 %\n",
      "percent of infections from human to human transmission 42.67558656981977 %\n"
     ]
    }
   ],
   "source": [
    "print('percent of infections from external forcing', 100*np.mean([external[a]/total[a] for a in range(len(external))]),'%')\n",
    "print('percent of infections from human to human transmission', 100*np.mean([internal[a]/total[a] for a in range(len(internal))]),'%')"
   ]
  },
  {
   "cell_type": "code",
   "execution_count": 9,
   "metadata": {
    "scrolled": false
   },
   "outputs": [
    {
     "data": {
      "text/plain": [
       "<matplotlib.axes._subplots.AxesSubplot at 0x7f25c2d8bf98>"
      ]
     },
     "execution_count": 9,
     "metadata": {},
     "output_type": "execute_result"
    },
    {
     "data": {
      "image/png": "[encoded data removed]",
      "text/plain": [
       "<Figure size 1440x1440 with 4 Axes>"
      ]
     },
     "metadata": {},
     "output_type": "display_data"
    }
   ],
   "source": [
    "plt.figure(figsize = (20,20))\n",
    "plt.subplot(2,2,1)\n",
    "sns.boxplot(external)\n",
    "\n",
    "plt.subplot(2,2,2)\n",
    "sns.boxplot(internal)\n",
    "\n",
    "plt.subplot(2,2,3)\n",
    "sns.boxplot(death)\n",
    "plt.subplot(2,2,4)\n",
    "sns.boxplot(total)"
   ]
  },
  {
   "cell_type": "markdown",
   "metadata": {},
   "source": [
    "# Reproductive Number -- without external infection\n",
    "Life expectancy 72 years (2015) in Bangladesh but 67 (2004)\n",
    "\n",
    "$$ R_0 = \\frac{\\beta \\sigma}{(\\sigma +\\mu)(\\mu1+\\mu2+\\mu)} $$"
   ]
  },
  {
   "cell_type": "code",
   "execution_count": 18,
   "metadata": {},
   "outputs": [
    {
     "data": {
      "text/plain": [
       "0.5869618146562724"
      ]
     },
     "execution_count": 18,
     "metadata": {},
     "output_type": "execute_result"
    }
   ],
   "source": [
    "β = stats.gamma.rvs( a_β, loc_β, scale_β)\n",
    "μ1 = 1/stats.gamma.rvs( a_μ1, loc_μ1, scale_μ1)\n",
    "μ2 = 1/stats.gamma.rvs( a_μ2, loc_μ2, scale_μ2)\n",
    "σ = 1/stats.gamma.rvs( a_σ, loc_σ, scale_σ)\n",
    "μ = 1/(365*67)\n",
    "ϵ = stats.gamma.rvs( a_ϵ, loc_ϵ, scale_ϵ)\n",
    "\n",
    "R_0_H = (β*σ)/((σ+μ)*(μ1+μ2+μ)) \n",
    "R_0_H"
   ]
  },
  {
   "cell_type": "markdown",
   "metadata": {},
   "source": [
    "# Reproductive Number -- with external infection \n",
    "\n",
    "Fit Expoential to growth rate -- rate per day per population level"
   ]
  },
  {
   "cell_type": "code",
   "execution_count": 20,
   "metadata": {},
   "outputs": [
    {
     "name": "stderr",
     "output_type": "stream",
     "text": [
      "/home/emma/.local/lib/python3.5/site-packages/ipykernel_launcher.py:49: RuntimeWarning: divide by zero encountered in double_scalars\n"
     ]
    }
   ],
   "source": [
    "Gh=gillespieSEIR_season(parameters[0], β, μ1,μ2,\n",
    "                          σ,ϵ)\n",
    "SEIHRt_s = Gh[0]\n",
    "SEIHRs_s = Gh[1][:,0]\n",
    "SEIHRe_s = Gh[1][:,1]\n",
    "SEIHRi_s = Gh[1][:,2]\n",
    "SEIHRr_s = Gh[1][:,3]"
   ]
  },
  {
   "cell_type": "code",
   "execution_count": 23,
   "metadata": {},
   "outputs": [],
   "source": [
    "manhes = []\n",
    "manhts = []\n",
    "manhhs = []\n",
    "manhis = []\n",
    "manhss = []\n",
    "manhrs = []\n",
    "cum = []\n",
    "for ind, x in enumerate(SEIHRt_s):\n",
    "    if ind<len(SEIHRt_s)-1:\n",
    "        manhes.append((SEIHRe_s[ind], SEIHRe_s[ind]))\n",
    "        cum.append((Gh[3][ind], Gh[3][ind]))\n",
    "        manhis.append((SEIHRi_s[ind], SEIHRi_s[ind]))\n",
    "        manhss.append((SEIHRs_s[ind], SEIHRs_s[ind]))\n",
    "        manhrs.append((SEIHRr_s[ind], SEIHRr_s[ind]))\n",
    "        manhts.append((SEIHRt_s[ind], SEIHRt_s[ind+1]))\n",
    "manhes = np.array(manhes).flatten()\n",
    "manhts = np.array(manhts).flatten()\n",
    "manhss = np.array(manhss).flatten()\n",
    "manhrs = np.array(manhrs).flatten()\n",
    "cum = np.array(cum).flatten()\n",
    "manhis = np.array(manhis).flatten()"
   ]
  },
  {
   "cell_type": "code",
   "execution_count": 34,
   "metadata": {},
   "outputs": [
    {
     "data": {
      "text/plain": [
       "(0, 300)"
      ]
     },
     "execution_count": 34,
     "metadata": {},
     "output_type": "execute_result"
    },
    {
     "data": {
      "image/png": "[encoded data removed]",
      "text/plain": [
       "<Figure size 1440x576 with 1 Axes>"
      ]
     },
     "metadata": {},
     "output_type": "display_data"
    }
   ],
   "source": [
    "plt.figure(figsize = (20,8))\n",
    "N = sum(Input_H)\n",
    "plt.plot(manhts, manhes/N,c='orange', label = 'exposed')\n",
    "\n",
    "plt.plot(manhts,manhis/N,c= 'r', label = 'infected')\n",
    "plt.legend(fontsize = 20)\n",
    "plt.xlim([0,300])"
   ]
  },
  {
   "cell_type": "code",
   "execution_count": 50,
   "metadata": {},
   "outputs": [
    {
     "data": {
      "text/plain": [
       "(0, 50)"
      ]
     },
     "execution_count": 50,
     "metadata": {},
     "output_type": "execute_result"
    },
    {
     "data": {
      "image/png": "[encoded data removed]",
      "text/plain": [
       "<Figure size 1440x576 with 1 Axes>"
      ]
     },
     "metadata": {},
     "output_type": "display_data"
    }
   ],
   "source": [
    "plt.figure(figsize = (20,8))\n",
    "plt.plot(manhts, manhes, color = 'orange')\n",
    "plt.plot(manhts, np.exp(0.026*manhts), color = 'black', label ='exponential fit')\n",
    "plt.plot(manhts, cum, color = 'green', label = 'Cumulative Number of infections')\n",
    "plt.legend(fontsize = 20)\n",
    "plt.ylim([0, 50])\n"
   ]
  },
  {
   "cell_type": "markdown",
   "metadata": {},
   "source": [
    "# Distribution of number of exposed before observing the initial infections"
   ]
  },
  {
   "cell_type": "code",
   "execution_count": 51,
   "metadata": {},
   "outputs": [],
   "source": [
    "def SEIRexposed(initial, beta, mu1,mu2, sigma,epsilon):\n",
    "    event_time = []\n",
    "    pop = []\n",
    "    N = sum(initial)\n",
    "    pop.append(initial)\n",
    "    event_time.append(0)\n",
    "    times = 0\n",
    "    ind = 0\n",
    "    year = 1\n",
    "    cuminf = []\n",
    "    cuminf.append(0)\n",
    "    events = []\n",
    "    num_external= 0\n",
    "    num_internal = 0\n",
    "    exposed = 0\n",
    "    Rtotal = 1\n",
    "    death = 0\n",
    "    while pop[ind][2]<1:\n",
    "        state = np.zeros(shape= (4,12))\n",
    "        \n",
    "        ############################### Seasonality #######################################\n",
    "        if np.round(times)%365 <= 120:\n",
    "            E = epsilon\n",
    "        else:\n",
    "            E = 0\n",
    "        ####################################################################################\n",
    "        #################################### EVENTS ########################################\n",
    "        ####################################################################################    \n",
    "        \n",
    "        R_external = E*pop[ind][0]\n",
    "        state[:,0] = [-1,1,0,0]\n",
    "        \n",
    "        R_se = beta*(pop[ind][0])*(pop[ind][2])/N  \n",
    "        state[:,1] = [-1, 1, 0, 0]\n",
    "        \n",
    "        R_ei = sigma*pop[ind][1]\n",
    "        state[:,2] = [0, -1, 1, 0]\n",
    "        \n",
    "\n",
    "        \n",
    "        R_ir = mu2*pop[ind][2]\n",
    "        state[:,3] = [0,0,-1,1]\n",
    "        \n",
    "\n",
    "        R_is = mu1*pop[ind][2]\n",
    "        state[:,4] = [1,0,-1,0]\n",
    "        \n",
    "\n",
    "########################## RATES ##############################\n",
    "        rate = [R_external, R_se, R_ei,  R_ir,  R_is]\n",
    "\n",
    "        Rtotal = sum(rate)\n",
    "\n",
    "        delta_t= -np.log(np.random.uniform(0,1))/Rtotal\n",
    "        P = np.random.uniform(0,1)*Rtotal\n",
    "        \n",
    "        if Rtotal>0:\n",
    "            times =times+ delta_t\n",
    "            event = np.min(np.where(P<=np.cumsum(rate)))\n",
    "            events.append(event)\n",
    "            event_time.append(times)\n",
    "            pop.append(pop[ind]+state[:,event])\n",
    "            if event == 0:\n",
    "                num_external +=1\n",
    "                exposed +=1 \n",
    "            if event == 1:\n",
    "                num_internal +=1\n",
    "                exposed +=1\n",
    "            if event == 3:\n",
    "                death +=1 \n",
    "            if event == 2:\n",
    "                cuminf.append(1 +cuminf[ind] )\n",
    "            else:\n",
    "                cuminf.append(0 +cuminf[ind])\n",
    "            ind=ind+1\n",
    "        N = sum(pop[ind][:2])\n",
    "    return event_time, np.array(pop), events, cuminf, num_external, num_internal, death, exposed"
   ]
  },
  {
   "cell_type": "code",
   "execution_count": 52,
   "metadata": {},
   "outputs": [],
   "source": [
    "external = []\n",
    "internal = []\n",
    "total = []\n",
    "death = []\n",
    "exposed = []\n",
    "for k in range(1000):\n",
    "    beta = stats.gamma.rvs( a_β, loc_β, scale_β)\n",
    "    mu1 = 1/stats.gamma.rvs( a_μ1, loc_μ1, scale_μ1)\n",
    "    mu2 = 1/stats.gamma.rvs( a_μ2, loc_μ2, scale_μ2)\n",
    "    epsilon = stats.gamma.rvs( a_ϵ, loc_ϵ, scale_ϵ)\n",
    "    sigma = 1/stats.gamma.rvs( a_σ, loc_σ, scale_σ)\n",
    "    M=SEIRexposed(parameters[0], beta, mu1,mu2,\n",
    "                          sigma,epsilon)\n",
    "    external.append(M[4])\n",
    "    internal.append(M[5])\n",
    "    total.append(M[3][-1])\n",
    "    death.append(M[6])\n",
    "    exposed.append(M[7])"
   ]
  },
  {
   "cell_type": "code",
   "execution_count": 53,
   "metadata": {},
   "outputs": [
    {
     "data": {
      "text/plain": [
       "1"
      ]
     },
     "execution_count": 53,
     "metadata": {},
     "output_type": "execute_result"
    },
    {
     "data": {
      "image/png": "[encoded data removed]",
      "text/plain": [
       "<Figure size 432x288 with 1 Axes>"
      ]
     },
     "metadata": {},
     "output_type": "display_data"
    }
   ],
   "source": [
    "plt.hist(exposed, bins = np.max(exposed))\n",
    "stats.mode(exposed)[0][0]"
   ]
  },
  {
   "cell_type": "code",
   "execution_count": 99,
   "metadata": {},
   "outputs": [],
   "source": [
    "\n",
    "# Data_F04=pd.read_csv(\"Case_data/2004_F_cases.csv\",sep = ',', header = 0)\n",
    "# ############################# Spacing ##############################################\n",
    "# date_format = \"%d/%m/%y\"\n",
    "\n",
    "\n",
    "# def Spacing(dataset):\n",
    "#     record = []\n",
    "#     record.append(datetime.strptime(dataset['Date'][0], date_format).day)\n",
    "#     for i in range(1, len(dataset)):\n",
    "#         record.append(record[i-1]+(datetime.strptime(dataset['Date'][i], date_format)-datetime.strptime(dataset['Date'][i-1], date_format)).days)\n",
    "#     start_day = (datetime.strptime(Data_F04['Date'].values[0], date_format)-datetime.strptime('01/11/03', date_format)).days\n",
    "#     record = [int(a - record[0]) for a in record]\n",
    "#     record = [int(a +start_day) for a in record]\n",
    "\n",
    "#     return record\n",
    "\n",
    "# Rec_F04=Spacing(Data_F04)\n",
    "# Cum_F04 = Data_F04['CumsumInf'].values\n",
    "# leng = len(np.arange(0, Rec_F04[0], 2))\n",
    "# Rec_F04 = np.insert(Rec_F04, 0, np.arange(0, Rec_F04[0], 2))\n",
    "# Cum_F04 = np.insert(Cum_F04, 0, np.zeros(leng))\n",
    "# summary = np.array([Rec_F04, Cum_F04])\n",
    "# plt.plot(M[0], M[3])\n",
    "# plt.plot(summary[0][:20], summary[1][:20])"
   ]
  },
  {
   "cell_type": "code",
   "execution_count": null,
   "metadata": {},
   "outputs": [],
   "source": []
  },
  {
   "cell_type": "code",
   "execution_count": null,
   "metadata": {},
   "outputs": [],
   "source": []
  }
 ],
 "metadata": {
  "kernelspec": {
   "display_name": "Python 3",
   "language": "python",
   "name": "python3"
  },
  "language_info": {
   "codemirror_mode": {
    "name": "ipython",
    "version": 3
   },
   "file_extension": ".py",
   "mimetype": "text/x-python",
   "name": "python",
   "nbconvert_exporter": "python",
   "pygments_lexer": "ipython3",
   "version": "3.5.2"
  }
 },
 "nbformat": 4,
 "nbformat_minor": 2
}
