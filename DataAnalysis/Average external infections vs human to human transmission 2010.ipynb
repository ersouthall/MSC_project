{
 "cells": [
  {
   "cell_type": "code",
   "execution_count": 1,
   "metadata": {},
   "outputs": [],
   "source": [
    "import numpy as np\n",
    "import matplotlib.pyplot as plt\n",
    "from scipy.integrate import odeint\n",
    "import math\n",
    "from scipy.interpolate import interp1d\n",
    "import seaborn as sns\n",
    "import pandas as pd\n",
    "from mpl_toolkits.mplot3d import Axes3D\n",
    "from matplotlib import cm\n",
    "from matplotlib.mlab import griddata\n",
    "from datetime import datetime\n",
    "from scipy import stats"
   ]
  },
  {
   "cell_type": "markdown",
   "metadata": {},
   "source": [
    "# Load parameter distributions -- F10"
   ]
  },
  {
   "cell_type": "code",
   "execution_count": 2,
   "metadata": {},
   "outputs": [],
   "source": [
    "μ1 = 1/21 #14 days infectious\n",
    "μ2 = 1/5 #5 days (14 - 9 days)\n",
    "σ =1/5 #5 days exposed\n",
    "ω=1/9 # 9 days until emitted to hospital\n",
    "capT = 10000\n",
    "γ = 1/(80*365)\n",
    "Input_H = [1500,0,0,0]\n",
    "parameters = [Input_H, capT]"
   ]
  },
  {
   "cell_type": "code",
   "execution_count": 3,
   "metadata": {},
   "outputs": [],
   "source": [
    "θ = np.load('ABC/ABC_season/theta_Season_F10.npy')\n",
    "\n",
    "a_β, loc_β, scale_β = stats.gamma.fit(θ[5][:,0])\n",
    "a_ϵ, loc_ϵ, scale_ϵ = stats.gamma.fit(θ[5][:,1])\n",
    "a_σ, loc_σ, scale_σ = stats.gamma.fit([1/a for a in θ[5][:,2]])\n",
    "a_μ1, loc_μ1, scale_μ1 = stats.gamma.fit([1/a for a in θ[5][:,3]])\n",
    "a_μ2, loc_μ2, scale_μ2 = stats.gamma.fit([1/a for a in θ[5][:,4]])"
   ]
  },
  {
   "cell_type": "markdown",
   "metadata": {},
   "source": [
    "# Use SEIR model -- split up rate from human to human and external"
   ]
  },
  {
   "cell_type": "code",
   "execution_count": 4,
   "metadata": {},
   "outputs": [],
   "source": [
    "def gillespieSEIR_season(initial, beta, mu1,mu2, sigma,epsilon):\n",
    "    event_time = []\n",
    "    pop = []\n",
    "    N = sum(initial)\n",
    "    pop.append(initial)\n",
    "    event_time.append(0)\n",
    "    times = 0\n",
    "    ind = 0\n",
    "    year = 1\n",
    "    cuminf = []\n",
    "    cuminf.append(0)\n",
    "    events = []\n",
    "    num_external= 0\n",
    "    num_internal = 0\n",
    "    Rtotal = 1\n",
    "    death = 0\n",
    "    while Rtotal>0:\n",
    "        state = np.zeros(shape= (4,12))\n",
    "        \n",
    "        ############################### Seasonality #######################################\n",
    "        if np.round(times)%365 <= 120:\n",
    "            E = epsilon\n",
    "        else:\n",
    "            E = 0\n",
    "        ####################################################################################\n",
    "        #################################### EVENTS ########################################\n",
    "        ####################################################################################    \n",
    "        \n",
    "        R_external = E*pop[ind][0]\n",
    "        state[:,0] = [-1,1,0,0]\n",
    "        \n",
    "        R_se = beta*(pop[ind][0])*(pop[ind][2])/N  \n",
    "        state[:,1] = [-1, 1, 0, 0]\n",
    "        \n",
    "        R_ei = sigma*pop[ind][1]\n",
    "        state[:,2] = [0, -1, 1, 0]\n",
    "        \n",
    "\n",
    "        \n",
    "        R_ir = mu2*pop[ind][2]\n",
    "        state[:,3] = [0,0,-1,1]\n",
    "        \n",
    "\n",
    "        R_is = mu1*pop[ind][2]\n",
    "        state[:,4] = [1,0,-1,0]\n",
    "        \n",
    "\n",
    "########################## RATES ##############################\n",
    "        rate = [R_external, R_se, R_ei,  R_ir,  R_is]\n",
    "\n",
    "        Rtotal = sum(rate)\n",
    "\n",
    "        delta_t= -np.log(np.random.uniform(0,1))/Rtotal\n",
    "        P = np.random.uniform(0,1)*Rtotal\n",
    "        \n",
    "        if Rtotal>0:\n",
    "            times =times+ delta_t\n",
    "            event = np.min(np.where(P<=np.cumsum(rate)))\n",
    "            events.append(event)\n",
    "            event_time.append(times)\n",
    "            pop.append(pop[ind]+state[:,event])\n",
    "            if event == 0:\n",
    "                num_external +=1\n",
    "            if event == 1:\n",
    "                num_internal +=1\n",
    "            if event == 3:\n",
    "                death +=1 \n",
    "            if event == 2:\n",
    "                cuminf.append(1 +cuminf[ind] )\n",
    "            else:\n",
    "                cuminf.append(0 +cuminf[ind])\n",
    "            ind=ind+1\n",
    "        N = sum(pop[ind][:2])\n",
    "    return event_time, np.array(pop), events, cuminf, num_external, num_internal, death"
   ]
  },
  {
   "cell_type": "code",
   "execution_count": 5,
   "metadata": {},
   "outputs": [
    {
     "name": "stderr",
     "output_type": "stream",
     "text": [
      "/home/emma/.local/lib/python3.5/site-packages/ipykernel_launcher.py:53: RuntimeWarning: divide by zero encountered in double_scalars\n"
     ]
    }
   ],
   "source": [
    "external = []\n",
    "internal = []\n",
    "total = []\n",
    "death = []\n",
    "for k in range(5000):\n",
    "    beta = stats.gamma.rvs( a_β, loc_β, scale_β)\n",
    "    mu1 = 1/stats.gamma.rvs( a_μ1, loc_μ1, scale_μ1)\n",
    "    mu2 = 1/stats.gamma.rvs( a_μ2, loc_μ2, scale_μ2)\n",
    "    epsilon = stats.gamma.rvs( a_ϵ, loc_ϵ, scale_ϵ)\n",
    "    sigma = 1/stats.gamma.rvs( a_σ, loc_σ, scale_σ)\n",
    "    M=gillespieSEIR_season(parameters[0], beta, mu1,mu2,\n",
    "                          sigma,epsilon)\n",
    "    external.append(M[4])\n",
    "    internal.append(M[5])\n",
    "    total.append(M[3][-1])\n",
    "    death.append(M[6])"
   ]
  },
  {
   "cell_type": "code",
   "execution_count": 7,
   "metadata": {},
   "outputs": [
    {
     "name": "stdout",
     "output_type": "stream",
     "text": [
      "percent fatal infection 16.58647123078704 %\n"
     ]
    }
   ],
   "source": [
    "print('percent fatal infection', 100*np.mean([death[a]/total[a] for a in range(len(death))]), '%')"
   ]
  },
  {
   "cell_type": "code",
   "execution_count": 8,
   "metadata": {},
   "outputs": [
    {
     "name": "stdout",
     "output_type": "stream",
     "text": [
      "percent external forcing 97.28823448839816 %\n",
      "percent human to human 2.711765511601847 %\n"
     ]
    }
   ],
   "source": [
    "print('percent external forcing', 100*np.mean([external[a]/total[a] for a in range(len(external))]),'%')\n",
    "print('percent human to human', 100*np.mean([internal[a]/total[a] for a in range(len(internal))]),'%')"
   ]
  },
  {
   "cell_type": "code",
   "execution_count": 9,
   "metadata": {},
   "outputs": [
    {
     "data": {
      "text/plain": [
       "<matplotlib.axes._subplots.AxesSubplot at 0x7ff0fcb15a20>"
      ]
     },
     "execution_count": 9,
     "metadata": {},
     "output_type": "execute_result"
    },
    {
     "data": {
      "image/png": "[encoded data removed]",
      "text/plain": [
       "<Figure size 1440x1440 with 4 Axes>"
      ]
     },
     "metadata": {},
     "output_type": "display_data"
    }
   ],
   "source": [
    "plt.figure(figsize = (20,20))\n",
    "plt.subplot(2,2,1)\n",
    "sns.boxplot(external)\n",
    "\n",
    "plt.subplot(2,2,2)\n",
    "sns.boxplot(internal)\n",
    "\n",
    "plt.subplot(2,2,3)\n",
    "sns.boxplot(death)\n",
    "plt.subplot(2,2,4)\n",
    "sns.boxplot(total)"
   ]
  },
  {
   "cell_type": "markdown",
   "metadata": {},
   "source": [
    "# Reproductive Number -- without external infection"
   ]
  },
  {
   "cell_type": "code",
   "execution_count": 11,
   "metadata": {},
   "outputs": [
    {
     "data": {
      "text/plain": [
       "0.0109962151761607"
      ]
     },
     "execution_count": 11,
     "metadata": {},
     "output_type": "execute_result"
    }
   ],
   "source": [
    "β = stats.gamma.rvs( a_β, loc_β, scale_β)\n",
    "μ1 = 1/stats.gamma.rvs( a_μ1, loc_μ1, scale_μ1)\n",
    "μ2 = 1/stats.gamma.rvs( a_μ2, loc_μ2, scale_μ2)\n",
    "σ = 1/stats.gamma.rvs( a_σ, loc_σ, scale_σ)\n",
    "μ = 1/(365*67)\n",
    "ϵ = stats.gamma.rvs( a_ϵ, loc_ϵ, scale_ϵ)\n",
    "\n",
    "R_0_H = (β*σ)/((σ+μ)*(μ1+μ2+μ)) \n",
    "R_0_H"
   ]
  },
  {
   "cell_type": "markdown",
   "metadata": {},
   "source": [
    "# Distribution of number of exposed before observing the initial infections"
   ]
  },
  {
   "cell_type": "code",
   "execution_count": 12,
   "metadata": {},
   "outputs": [],
   "source": [
    "def SEIRexposed(initial, beta, mu1,mu2, sigma,epsilon):\n",
    "    event_time = []\n",
    "    pop = []\n",
    "    N = sum(initial)\n",
    "    pop.append(initial)\n",
    "    event_time.append(0)\n",
    "    times = 0\n",
    "    ind = 0\n",
    "    year = 1\n",
    "    cuminf = []\n",
    "    cuminf.append(0)\n",
    "    events = []\n",
    "    num_external= 0\n",
    "    num_internal = 0\n",
    "    exposed = 0\n",
    "    Rtotal = 1\n",
    "    death = 0\n",
    "    while pop[ind][2]<1:\n",
    "        state = np.zeros(shape= (4,12))\n",
    "        \n",
    "        ############################### Seasonality #######################################\n",
    "        if np.round(times)%365 <= 120:\n",
    "            E = epsilon\n",
    "        else:\n",
    "            E = 0\n",
    "        ####################################################################################\n",
    "        #################################### EVENTS ########################################\n",
    "        ####################################################################################    \n",
    "        \n",
    "        R_external = E*pop[ind][0]\n",
    "        state[:,0] = [-1,1,0,0]\n",
    "        \n",
    "        R_se = beta*(pop[ind][0])*(pop[ind][2])/N  \n",
    "        state[:,1] = [-1, 1, 0, 0]\n",
    "        \n",
    "        R_ei = sigma*pop[ind][1]\n",
    "        state[:,2] = [0, -1, 1, 0]\n",
    "        \n",
    "        R_ir = mu2*pop[ind][2]\n",
    "        state[:,3] = [0,0,-1,1]\n",
    "        \n",
    "        R_is = mu1*pop[ind][2]\n",
    "        state[:,4] = [1,0,-1,0]\n",
    "        \n",
    "\n",
    "########################## RATES ##############################\n",
    "        rate = [R_external, R_se, R_ei,  R_ir,  R_is]\n",
    "\n",
    "        Rtotal = sum(rate)\n",
    "\n",
    "        delta_t= -np.log(np.random.uniform(0,1))/Rtotal\n",
    "        P = np.random.uniform(0,1)*Rtotal\n",
    "        \n",
    "        if Rtotal>0:\n",
    "            times =times+ delta_t\n",
    "            event = np.min(np.where(P<=np.cumsum(rate)))\n",
    "            events.append(event)\n",
    "            event_time.append(times)\n",
    "            pop.append(pop[ind]+state[:,event])\n",
    "            if event == 0:\n",
    "                num_external +=1\n",
    "                exposed +=1 \n",
    "            if event == 1:\n",
    "                num_internal +=1\n",
    "                exposed +=1\n",
    "            if event == 3:\n",
    "                death +=1 \n",
    "            if event == 2:\n",
    "                cuminf.append(1 +cuminf[ind] )\n",
    "            else:\n",
    "                cuminf.append(0 +cuminf[ind])\n",
    "            ind=ind+1\n",
    "        N = sum(pop[ind][:2])\n",
    "    return event_time, np.array(pop), events, cuminf, num_external, num_internal, death, exposed"
   ]
  },
  {
   "cell_type": "code",
   "execution_count": 13,
   "metadata": {},
   "outputs": [],
   "source": [
    "external = []\n",
    "internal = []\n",
    "total = []\n",
    "death = []\n",
    "exposed = []\n",
    "for k in range(5000):\n",
    "    beta = stats.gamma.rvs( a_β, loc_β, scale_β)\n",
    "    mu1 = 1/stats.gamma.rvs( a_μ1, loc_μ1, scale_μ1)\n",
    "    mu2 = 1/stats.gamma.rvs( a_μ2, loc_μ2, scale_μ2)\n",
    "    epsilon = stats.gamma.rvs( a_ϵ, loc_ϵ, scale_ϵ)\n",
    "    sigma = 1/stats.gamma.rvs( a_σ, loc_σ, scale_σ)\n",
    "    M=SEIRexposed(parameters[0], beta, mu1,mu2,\n",
    "                          sigma,epsilon)\n",
    "    external.append(M[4])\n",
    "    internal.append(M[5])\n",
    "    total.append(M[3][-1])\n",
    "    death.append(M[6])\n",
    "    exposed.append(M[7])"
   ]
  },
  {
   "cell_type": "code",
   "execution_count": 14,
   "metadata": {},
   "outputs": [
    {
     "data": {
      "text/plain": [
       "2"
      ]
     },
     "execution_count": 14,
     "metadata": {},
     "output_type": "execute_result"
    },
    {
     "data": {
      "image/png": "[encoded data removed]",
      "text/plain": [
       "<Figure size 432x288 with 1 Axes>"
      ]
     },
     "metadata": {},
     "output_type": "display_data"
    }
   ],
   "source": [
    "plt.hist(exposed, bins = np.max(exposed))\n",
    "stats.mode(exposed)[0][0]"
   ]
  },
  {
   "cell_type": "code",
   "execution_count": null,
   "metadata": {},
   "outputs": [],
   "source": []
  }
 ],
 "metadata": {
  "kernelspec": {
   "display_name": "Python 3",
   "language": "python",
   "name": "python3"
  },
  "language_info": {
   "codemirror_mode": {
    "name": "ipython",
    "version": 3
   },
   "file_extension": ".py",
   "mimetype": "text/x-python",
   "name": "python",
   "nbconvert_exporter": "python",
   "pygments_lexer": "ipython3",
   "version": "3.5.2"
  }
 },
 "nbformat": 4,
 "nbformat_minor": 2
}
