{
 "cells": [
  {
   "cell_type": "code",
   "execution_count": 104,
   "metadata": {},
   "outputs": [],
   "source": [
    "import numpy as np\n",
    "import matplotlib.pyplot as plt\n",
    "from scipy.integrate import odeint\n",
    "import math\n",
    "from scipy.interpolate import interp1d\n",
    "import seaborn as sns\n",
    "import pandas as pd\n",
    "from mpl_toolkits.mplot3d import Axes3D\n",
    "from matplotlib import cm\n",
    "from matplotlib.mlab import griddata\n",
    "from datetime import datetime\n",
    "from scipy import stats"
   ]
  },
  {
   "cell_type": "markdown",
   "metadata": {},
   "source": [
    "# Load parameter distributions -- F04"
   ]
  },
  {
   "cell_type": "code",
   "execution_count": 105,
   "metadata": {},
   "outputs": [],
   "source": [
    "μ1 = 1/21 #14 days infectious\n",
    "μ2 = 1/5 #5 days (14 - 9 days)\n",
    "σ =1/5 #5 days exposed\n",
    "ω=1/9 # 9 days until emitted to hospital\n",
    "capT = 10000\n",
    "γ = 1/(80*365)\n",
    "Input_H = [1500,0,0,0]\n",
    "parameters = [Input_H, capT]"
   ]
  },
  {
   "cell_type": "code",
   "execution_count": 107,
   "metadata": {},
   "outputs": [],
   "source": [
    "# θ = np.load('ABC/theta_SEIR.npy')\n",
    "# tols = np.load('ABC/tols_SEIR.npy')\n",
    "# θ = np.load('ABC/ABC_season/theta_Season_F10.npy')\n",
    "θ = np.load('ABC/ABC_season/theta_Season_F04_3.npy')\n",
    "# θ = np.load('ABC/theta_F_combined1.npy')\n",
    "# tols = np.load('ABC/tols_F_combined1.npy')\n",
    "a_β, loc_β, scale_β = stats.gamma.fit(θ[4][:,0])\n",
    "a_ϵ, loc_ϵ, scale_ϵ = stats.gamma.fit(θ[4][:,1])\n",
    "a_σ, loc_σ, scale_σ = stats.gamma.fit([1/a for a in θ[4][:,2]])\n",
    "a_μ1, loc_μ1, scale_μ1 = stats.gamma.fit([1/a for a in θ[4][:,3]])\n",
    "a_μ2, loc_μ2, scale_μ2 = stats.gamma.fit([1/a for a in θ[4][:,4]])"
   ]
  },
  {
   "cell_type": "markdown",
   "metadata": {},
   "source": [
    "# Use SEIR model -- split up rate from human to human and external"
   ]
  },
  {
   "cell_type": "code",
   "execution_count": 108,
   "metadata": {},
   "outputs": [],
   "source": [
    "def gillespieSEIR_season(initial, beta, mu1,mu2, sigma,epsilon):\n",
    "    event_time = []\n",
    "    pop = []\n",
    "    N = sum(initial)\n",
    "    pop.append(initial)\n",
    "    event_time.append(0)\n",
    "    times = 0\n",
    "    ind = 0\n",
    "    year = 1\n",
    "    cuminf = []\n",
    "    cuminf.append(0)\n",
    "    events = []\n",
    "    num_external= 0\n",
    "    num_internal = 0\n",
    "    Rtotal = 1\n",
    "    death = 0\n",
    "    while Rtotal>0:\n",
    "#         print(Rtotal)\n",
    "        state = np.zeros(shape= (4,12))\n",
    "        \n",
    "        ############################### Seasonality #######################################\n",
    "        if np.round(times)%365 <= 120:\n",
    "            E = epsilon\n",
    "        else:\n",
    "            E = 0\n",
    "        ####################################################################################\n",
    "        #################################### EVENTS ########################################\n",
    "        ####################################################################################    \n",
    "        \n",
    "        R_external = E*pop[ind][0]\n",
    "        state[:,0] = [-1,1,0,0]\n",
    "        \n",
    "        R_se = beta*(pop[ind][0])*(pop[ind][2])/N  \n",
    "        state[:,1] = [-1, 1, 0, 0]\n",
    "        \n",
    "        R_ei = sigma*pop[ind][1]\n",
    "        state[:,2] = [0, -1, 1, 0]\n",
    "        \n",
    "\n",
    "        \n",
    "        R_ir = mu2*pop[ind][2]\n",
    "        state[:,3] = [0,0,-1,1]\n",
    "        \n",
    "\n",
    "        R_is = mu1*pop[ind][2]\n",
    "        state[:,4] = [1,0,-1,0]\n",
    "        \n",
    "\n",
    "########################## RATES ##############################\n",
    "        rate = [R_external, R_se, R_ei,  R_ir,  R_is]\n",
    "#                 , R_sb, R_sd, R_ed, R_id]\n",
    "\n",
    "        Rtotal = sum(rate)\n",
    "\n",
    "        delta_t= -np.log(np.random.uniform(0,1))/Rtotal\n",
    "        P = np.random.uniform(0,1)*Rtotal\n",
    "        \n",
    "        if Rtotal>0:\n",
    "            times =times+ delta_t\n",
    "            event = np.min(np.where(P<=np.cumsum(rate)))\n",
    "            events.append(event)\n",
    "            event_time.append(times)\n",
    "            pop.append(pop[ind]+state[:,event])\n",
    "#             print(cuminf)\n",
    "            if event == 0:\n",
    "                num_external +=1\n",
    "            if event == 1:\n",
    "                num_internal +=1\n",
    "            if event == 3:\n",
    "                death +=1 \n",
    "            if event == 2:\n",
    "                cuminf.append(1 +cuminf[ind] )\n",
    "            else:\n",
    "                cuminf.append(0 +cuminf[ind])\n",
    "            ind=ind+1\n",
    "#         print(pop[ind])\n",
    "        N = sum(pop[ind][:2])\n",
    "    return event_time, np.array(pop), events, cuminf, num_external, num_internal, death"
   ]
  },
  {
   "cell_type": "code",
   "execution_count": 109,
   "metadata": {},
   "outputs": [
    {
     "name": "stderr",
     "output_type": "stream",
     "text": [
      "/home/emma/.local/lib/python3.5/site-packages/ipykernel_launcher.py:55: RuntimeWarning: divide by zero encountered in double_scalars\n",
      "/home/emma/.local/lib/python3.5/site-packages/ipykernel_launcher.py:33: RuntimeWarning: invalid value encountered in double_scalars\n"
     ]
    },
    {
     "ename": "KeyboardInterrupt",
     "evalue": "",
     "output_type": "error",
     "traceback": [
      "\u001b[0;31m---------------------------------------------------------------------------\u001b[0m",
      "\u001b[0;31mKeyboardInterrupt\u001b[0m                         Traceback (most recent call last)",
      "\u001b[0;32m<ipython-input-109-e79d2aeb3bd6>\u001b[0m in \u001b[0;36m<module>\u001b[0;34m()\u001b[0m\n\u001b[1;32m     10\u001b[0m     \u001b[0msigma\u001b[0m \u001b[0;34m=\u001b[0m \u001b[0;36m1\u001b[0m\u001b[0;34m/\u001b[0m\u001b[0mstats\u001b[0m\u001b[0;34m.\u001b[0m\u001b[0mgamma\u001b[0m\u001b[0;34m.\u001b[0m\u001b[0mrvs\u001b[0m\u001b[0;34m(\u001b[0m \u001b[0ma_σ\u001b[0m\u001b[0;34m,\u001b[0m \u001b[0mloc_σ\u001b[0m\u001b[0;34m,\u001b[0m \u001b[0mscale_σ\u001b[0m\u001b[0;34m)\u001b[0m\u001b[0;34m\u001b[0m\u001b[0m\n\u001b[1;32m     11\u001b[0m     M=gillespieSEIR_season(parameters[0], beta, mu1,mu2,\n\u001b[0;32m---> 12\u001b[0;31m                           sigma,epsilon)\n\u001b[0m\u001b[1;32m     13\u001b[0m     \u001b[0mexternal\u001b[0m\u001b[0;34m.\u001b[0m\u001b[0mappend\u001b[0m\u001b[0;34m(\u001b[0m\u001b[0mM\u001b[0m\u001b[0;34m[\u001b[0m\u001b[0;36m4\u001b[0m\u001b[0;34m]\u001b[0m\u001b[0;34m)\u001b[0m\u001b[0;34m\u001b[0m\u001b[0m\n\u001b[1;32m     14\u001b[0m     \u001b[0minternal\u001b[0m\u001b[0;34m.\u001b[0m\u001b[0mappend\u001b[0m\u001b[0;34m(\u001b[0m\u001b[0mM\u001b[0m\u001b[0;34m[\u001b[0m\u001b[0;36m5\u001b[0m\u001b[0;34m]\u001b[0m\u001b[0;34m)\u001b[0m\u001b[0;34m\u001b[0m\u001b[0m\n",
      "\u001b[0;32m<ipython-input-108-edf230eabc10>\u001b[0m in \u001b[0;36mgillespieSEIR_season\u001b[0;34m(initial, beta, mu1, mu2, sigma, epsilon)\u001b[0m\n\u001b[1;32m     58\u001b[0m         \u001b[0;32mif\u001b[0m \u001b[0mRtotal\u001b[0m\u001b[0;34m>\u001b[0m\u001b[0;36m0\u001b[0m\u001b[0;34m:\u001b[0m\u001b[0;34m\u001b[0m\u001b[0m\n\u001b[1;32m     59\u001b[0m             \u001b[0mtimes\u001b[0m \u001b[0;34m=\u001b[0m\u001b[0mtimes\u001b[0m\u001b[0;34m+\u001b[0m \u001b[0mdelta_t\u001b[0m\u001b[0;34m\u001b[0m\u001b[0m\n\u001b[0;32m---> 60\u001b[0;31m             \u001b[0mevent\u001b[0m \u001b[0;34m=\u001b[0m \u001b[0mnp\u001b[0m\u001b[0;34m.\u001b[0m\u001b[0mmin\u001b[0m\u001b[0;34m(\u001b[0m\u001b[0mnp\u001b[0m\u001b[0;34m.\u001b[0m\u001b[0mwhere\u001b[0m\u001b[0;34m(\u001b[0m\u001b[0mP\u001b[0m\u001b[0;34m<=\u001b[0m\u001b[0mnp\u001b[0m\u001b[0;34m.\u001b[0m\u001b[0mcumsum\u001b[0m\u001b[0;34m(\u001b[0m\u001b[0mrate\u001b[0m\u001b[0;34m)\u001b[0m\u001b[0;34m)\u001b[0m\u001b[0;34m)\u001b[0m\u001b[0;34m\u001b[0m\u001b[0m\n\u001b[0m\u001b[1;32m     61\u001b[0m             \u001b[0mevents\u001b[0m\u001b[0;34m.\u001b[0m\u001b[0mappend\u001b[0m\u001b[0;34m(\u001b[0m\u001b[0mevent\u001b[0m\u001b[0;34m)\u001b[0m\u001b[0;34m\u001b[0m\u001b[0m\n\u001b[1;32m     62\u001b[0m             \u001b[0mevent_time\u001b[0m\u001b[0;34m.\u001b[0m\u001b[0mappend\u001b[0m\u001b[0;34m(\u001b[0m\u001b[0mtimes\u001b[0m\u001b[0;34m)\u001b[0m\u001b[0;34m\u001b[0m\u001b[0m\n",
      "\u001b[0;32m~/.local/lib/python3.5/site-packages/numpy/core/fromnumeric.py\u001b[0m in \u001b[0;36mamin\u001b[0;34m(a, axis, out, keepdims)\u001b[0m\n\u001b[1;32m   2418\u001b[0m \u001b[0;34m\u001b[0m\u001b[0m\n\u001b[1;32m   2419\u001b[0m     return _methods._amin(a, axis=axis,\n\u001b[0;32m-> 2420\u001b[0;31m                           out=out, **kwargs)\n\u001b[0m\u001b[1;32m   2421\u001b[0m \u001b[0;34m\u001b[0m\u001b[0m\n\u001b[1;32m   2422\u001b[0m \u001b[0;34m\u001b[0m\u001b[0m\n",
      "\u001b[0;32m~/.local/lib/python3.5/site-packages/numpy/core/_methods.py\u001b[0m in \u001b[0;36m_amin\u001b[0;34m(a, axis, out, keepdims)\u001b[0m\n\u001b[1;32m     27\u001b[0m \u001b[0;34m\u001b[0m\u001b[0m\n\u001b[1;32m     28\u001b[0m \u001b[0;32mdef\u001b[0m \u001b[0m_amin\u001b[0m\u001b[0;34m(\u001b[0m\u001b[0ma\u001b[0m\u001b[0;34m,\u001b[0m \u001b[0maxis\u001b[0m\u001b[0;34m=\u001b[0m\u001b[0;32mNone\u001b[0m\u001b[0;34m,\u001b[0m \u001b[0mout\u001b[0m\u001b[0;34m=\u001b[0m\u001b[0;32mNone\u001b[0m\u001b[0;34m,\u001b[0m \u001b[0mkeepdims\u001b[0m\u001b[0;34m=\u001b[0m\u001b[0;32mFalse\u001b[0m\u001b[0;34m)\u001b[0m\u001b[0;34m:\u001b[0m\u001b[0;34m\u001b[0m\u001b[0m\n\u001b[0;32m---> 29\u001b[0;31m     \u001b[0;32mreturn\u001b[0m \u001b[0mumr_minimum\u001b[0m\u001b[0;34m(\u001b[0m\u001b[0ma\u001b[0m\u001b[0;34m,\u001b[0m \u001b[0maxis\u001b[0m\u001b[0;34m,\u001b[0m \u001b[0;32mNone\u001b[0m\u001b[0;34m,\u001b[0m \u001b[0mout\u001b[0m\u001b[0;34m,\u001b[0m \u001b[0mkeepdims\u001b[0m\u001b[0;34m)\u001b[0m\u001b[0;34m\u001b[0m\u001b[0m\n\u001b[0m\u001b[1;32m     30\u001b[0m \u001b[0;34m\u001b[0m\u001b[0m\n\u001b[1;32m     31\u001b[0m \u001b[0;32mdef\u001b[0m \u001b[0m_sum\u001b[0m\u001b[0;34m(\u001b[0m\u001b[0ma\u001b[0m\u001b[0;34m,\u001b[0m \u001b[0maxis\u001b[0m\u001b[0;34m=\u001b[0m\u001b[0;32mNone\u001b[0m\u001b[0;34m,\u001b[0m \u001b[0mdtype\u001b[0m\u001b[0;34m=\u001b[0m\u001b[0;32mNone\u001b[0m\u001b[0;34m,\u001b[0m \u001b[0mout\u001b[0m\u001b[0;34m=\u001b[0m\u001b[0;32mNone\u001b[0m\u001b[0;34m,\u001b[0m \u001b[0mkeepdims\u001b[0m\u001b[0;34m=\u001b[0m\u001b[0;32mFalse\u001b[0m\u001b[0;34m)\u001b[0m\u001b[0;34m:\u001b[0m\u001b[0;34m\u001b[0m\u001b[0m\n",
      "\u001b[0;31mKeyboardInterrupt\u001b[0m: "
     ]
    }
   ],
   "source": [
    "external = []\n",
    "internal = []\n",
    "total = []\n",
    "death = []\n",
    "for k in range(5000):\n",
    "    beta = stats.gamma.rvs( a_β, loc_β, scale_β)\n",
    "    mu1 = 1/stats.gamma.rvs( a_μ1, loc_μ1, scale_μ1)\n",
    "    mu2 = 1/stats.gamma.rvs( a_μ2, loc_μ2, scale_μ2)\n",
    "    epsilon = stats.gamma.rvs( a_ϵ, loc_ϵ, scale_ϵ)\n",
    "    sigma = 1/stats.gamma.rvs( a_σ, loc_σ, scale_σ)\n",
    "    M=gillespieSEIR_season(parameters[0], beta, mu1,mu2,\n",
    "                          sigma,epsilon)\n",
    "    external.append(M[4])\n",
    "    internal.append(M[5])\n",
    "    total.append(M[3][-1])\n",
    "    death.append(M[6])"
   ]
  },
  {
   "cell_type": "code",
   "execution_count": 110,
   "metadata": {},
   "outputs": [
    {
     "data": {
      "text/plain": [
       "4798"
      ]
     },
     "execution_count": 110,
     "metadata": {},
     "output_type": "execute_result"
    }
   ],
   "source": [
    "k\n"
   ]
  },
  {
   "cell_type": "code",
   "execution_count": 111,
   "metadata": {},
   "outputs": [
    {
     "data": {
      "text/plain": [
       "0.5059614266727259"
      ]
     },
     "execution_count": 111,
     "metadata": {},
     "output_type": "execute_result"
    }
   ],
   "source": [
    "np.mean([death[a]/total[a] for a in range(len(death))])"
   ]
  },
  {
   "cell_type": "code",
   "execution_count": 112,
   "metadata": {},
   "outputs": [
    {
     "name": "stdout",
     "output_type": "stream",
     "text": [
      "percent external forcing 56.22285940494199 %\n",
      "percent human to human 43.777140595058015 %\n"
     ]
    }
   ],
   "source": [
    "print('percent external forcing', 100*np.mean([external[a]/total[a] for a in range(len(external))]),'%')\n",
    "print('percent human to human', 100*np.mean([internal[a]/total[a] for a in range(len(internal))]),'%')"
   ]
  },
  {
   "cell_type": "code",
   "execution_count": 113,
   "metadata": {
    "scrolled": false
   },
   "outputs": [
    {
     "data": {
      "text/plain": [
       "{'boxes': [<matplotlib.lines.Line2D at 0x7f9ab8877208>],\n",
       " 'caps': [<matplotlib.lines.Line2D at 0x7f9ab8877c18>,\n",
       "  <matplotlib.lines.Line2D at 0x7f9ab8887080>],\n",
       " 'fliers': [<matplotlib.lines.Line2D at 0x7f9ab88878d0>],\n",
       " 'means': [],\n",
       " 'medians': [<matplotlib.lines.Line2D at 0x7f9ab88874a8>],\n",
       " 'whiskers': [<matplotlib.lines.Line2D at 0x7f9ab8877358>,\n",
       "  <matplotlib.lines.Line2D at 0x7f9ab88777f0>]}"
      ]
     },
     "execution_count": 113,
     "metadata": {},
     "output_type": "execute_result"
    },
    {
     "data": {
      "image/png": "[encoded data removed]",
      "text/plain": [
       "<Figure size 1440x1440 with 4 Axes>"
      ]
     },
     "metadata": {},
     "output_type": "display_data"
    }
   ],
   "source": [
    "plt.figure(figsize = (20,20))\n",
    "plt.subplot(2,2,1)\n",
    "# plt.boxplot([external[a]/total[a] for a in range(len(external))])\n",
    "plt.boxplot(external)\n",
    "\n",
    "plt.subplot(2,2,2)\n",
    "# plt.boxplot([internal[a]/total[a] for a in range(len(internal))])\n",
    "plt.boxplot(internal)\n",
    "\n",
    "plt.subplot(2,2,3)\n",
    "# plt.boxplot([death[a]/total[a] for a in range(len(death))])\n",
    "plt.boxplot(death)\n",
    "plt.subplot(2,2,4)\n",
    "plt.boxplot(total)"
   ]
  },
  {
   "cell_type": "markdown",
   "metadata": {},
   "source": [
    "# Reproductive Number -- 72 years (2015) in Bangladesh but 67 (2004)"
   ]
  },
  {
   "cell_type": "code",
   "execution_count": 83,
   "metadata": {},
   "outputs": [],
   "source": [
    "# μ = 1/(67*365)\n",
    "# β = stats.gamma.rvs( a_β, loc_β, scale_β)\n",
    "# μ1 = 1/stats.gamma.rvs( a_μ1, loc_μ1, scale_μ1)\n",
    "# μ2 = 1/stats.gamma.rvs( a_μ2, loc_μ2, scale_μ2)\n",
    "# ϵ = stats.gamma.rvs( a_ϵ, loc_ϵ, scale_ϵ)\n",
    "# σ = 1/stats.gamma.rvs( a_σ, loc_σ, scale_σ)\n",
    "# N = 1500"
   ]
  },
  {
   "cell_type": "code",
   "execution_count": 103,
   "metadata": {},
   "outputs": [
    {
     "data": {
      "text/plain": [
       "0.2058950322091674"
      ]
     },
     "execution_count": 103,
     "metadata": {},
     "output_type": "execute_result"
    }
   ],
   "source": [
    "R_0_H = (β*σ)/((σ+μ)*(μ1+μ2+μ)) \n",
    "R_0_H"
   ]
  },
  {
   "cell_type": "markdown",
   "metadata": {},
   "source": [
    "# Fit Expoential to growth rate -- rate per day per population level"
   ]
  },
  {
   "cell_type": "code",
   "execution_count": 102,
   "metadata": {},
   "outputs": [],
   "source": [
    "from scipy.optimize import curve_fit"
   ]
  },
  {
   "cell_type": "code",
   "execution_count": 86,
   "metadata": {},
   "outputs": [],
   "source": [
    "# Gh=gillespieSEIR(parameters[0], β, μ1,μ2,\n",
    "#                           σ,ϵ,  parameters[1])\n",
    "# SEIHRt_s = Gh[0]\n",
    "# SEIHRs_s = Gh[1][:,0]\n",
    "# SEIHRe_s = Gh[1][:,1]\n",
    "# SEIHRi_s = Gh[1][:,2]\n",
    "# # SEIHRh_s = Gh_season[1][:,3]\n",
    "# SEIHRr_s = Gh[1][:,3]"
   ]
  },
  {
   "cell_type": "code",
   "execution_count": 87,
   "metadata": {},
   "outputs": [],
   "source": [
    "# len(SEIHRt_s)"
   ]
  },
  {
   "cell_type": "code",
   "execution_count": 88,
   "metadata": {},
   "outputs": [],
   "source": [
    "# manhes = []\n",
    "# manhts = []\n",
    "# manhhs = []\n",
    "# manhis = []\n",
    "# manhss = []\n",
    "# manhrs = []\n",
    "# cum = []\n",
    "# for ind, x in enumerate(SEIHRt_s):\n",
    "#     if ind<len(SEIHRt_s)-1:\n",
    "#         manhes.append((SEIHRe_s[ind], SEIHRe_s[ind]))\n",
    "#         cum.append((Gh[3][ind], Gh[3][ind]))\n",
    "# #         manhhs.append((SEIHRh_s[ind], SEIHRh_s[ind]))\n",
    "#         manhis.append((SEIHRi_s[ind], SEIHRi_s[ind]))\n",
    "#         manhss.append((SEIHRs_s[ind], SEIHRs_s[ind]))\n",
    "#         manhrs.append((SEIHRr_s[ind], SEIHRr_s[ind]))\n",
    "#         manhts.append((SEIHRt_s[ind], SEIHRt_s[ind+1]))\n",
    "# manhes = np.array(manhes).flatten()\n",
    "# manhts = np.array(manhts).flatten()\n",
    "# manhss = np.array(manhss).flatten()\n",
    "# manhrs = np.array(manhrs).flatten()\n",
    "# cum = np.array(cum).flatten()\n",
    "# # manhhs = np.array(manhhs).flatten()\n",
    "# manhis = np.array(manhis).flatten()"
   ]
  },
  {
   "cell_type": "code",
   "execution_count": 89,
   "metadata": {},
   "outputs": [],
   "source": [
    "# plt.plot(manhts, cum)"
   ]
  },
  {
   "cell_type": "code",
   "execution_count": 90,
   "metadata": {},
   "outputs": [],
   "source": [
    "# plt.figure(figsize = (20,8))\n",
    "# # plt.plot(SEIHRt, SEIHRr/Nn,c='blue', label = 'removed')\n",
    "# plt.plot(manhts, manhes/N,c='orange', label = 'exposed')\n",
    "# # plt.plot(manhts, manhhs/Nn,c='magenta', label = 'hospital')\n",
    "\n",
    "# # plt.plot(manhts,manhrs/Nn, c='yellowgreen',label = 'susceptible')\n",
    "# plt.plot(manhts,manhis/N,c= 'r', label = 'infected')\n",
    "# plt.legend(fontsize = 20)\n",
    "# plt.xlim([0,300])"
   ]
  },
  {
   "cell_type": "code",
   "execution_count": 91,
   "metadata": {},
   "outputs": [],
   "source": [
    "# def func(x,  r):\n",
    "#     return np.exp(r * x) \n",
    "# popt, pcov = curve_fit(func, manhts, cum)"
   ]
  },
  {
   "cell_type": "code",
   "execution_count": 92,
   "metadata": {},
   "outputs": [],
   "source": [
    "# plt.figure(figsize = (20,8))\n",
    "# plt.plot(manhts, func(manhts, *popt))\n",
    "# plt.plot(manhts, manhes, color = 'orange')\n",
    "# plt.plot(manhts, np.exp(0.17*manhts), color = 'black', label ='exponential fit')\n",
    "# plt.plot(manhts, cum, color = 'green', label = 'cumulative')\n",
    "# plt.legend(fontsize = 20)\n",
    "# plt.ylim([0, 20])\n",
    "# # plt.xlim([0,10])"
   ]
  },
  {
   "cell_type": "code",
   "execution_count": 93,
   "metadata": {},
   "outputs": [],
   "source": [
    "# R_ϵ0 =  np.exp(0.17*((1/σ) +np.maximum((1/μ1),(1/μ2)) ))\n",
    "# R_ϵ0"
   ]
  },
  {
   "cell_type": "code",
   "execution_count": 94,
   "metadata": {},
   "outputs": [],
   "source": [
    "# R_0  = R_ϵ0 + R_0_H\n",
    "# R_0"
   ]
  },
  {
   "cell_type": "markdown",
   "metadata": {},
   "source": [
    "# Number of Exposed"
   ]
  },
  {
   "cell_type": "code",
   "execution_count": 95,
   "metadata": {},
   "outputs": [],
   "source": [
    "def SEIRexposed(initial, beta, mu1,mu2, sigma,epsilon):\n",
    "    event_time = []\n",
    "    pop = []\n",
    "    N = sum(initial)\n",
    "    pop.append(initial)\n",
    "    event_time.append(0)\n",
    "    times = 0\n",
    "    ind = 0\n",
    "    year = 1\n",
    "    cuminf = []\n",
    "    cuminf.append(0)\n",
    "    events = []\n",
    "    num_external= 0\n",
    "    num_internal = 0\n",
    "    exposed = 0\n",
    "    Rtotal = 1\n",
    "    death = 0\n",
    "    while pop[ind][2]<1:\n",
    "#         print(Rtotal)\n",
    "        state = np.zeros(shape= (4,12))\n",
    "        \n",
    "        ############################### Seasonality #######################################\n",
    "        if np.round(times)%365 <= 120:\n",
    "            E = epsilon\n",
    "        else:\n",
    "            E = 0\n",
    "        ####################################################################################\n",
    "        #################################### EVENTS ########################################\n",
    "        ####################################################################################    \n",
    "        \n",
    "        R_external = E*pop[ind][0]\n",
    "        state[:,0] = [-1,1,0,0]\n",
    "        \n",
    "        R_se = beta*(pop[ind][0])*(pop[ind][2])/N  \n",
    "        state[:,1] = [-1, 1, 0, 0]\n",
    "        \n",
    "        R_ei = sigma*pop[ind][1]\n",
    "        state[:,2] = [0, -1, 1, 0]\n",
    "        \n",
    "\n",
    "        \n",
    "        R_ir = mu2*pop[ind][2]\n",
    "        state[:,3] = [0,0,-1,1]\n",
    "        \n",
    "\n",
    "        R_is = mu1*pop[ind][2]\n",
    "        state[:,4] = [1,0,-1,0]\n",
    "        \n",
    "\n",
    "########################## RATES ##############################\n",
    "        rate = [R_external, R_se, R_ei,  R_ir,  R_is]\n",
    "#                 , R_sb, R_sd, R_ed, R_id]\n",
    "\n",
    "        Rtotal = sum(rate)\n",
    "\n",
    "        delta_t= -np.log(np.random.uniform(0,1))/Rtotal\n",
    "        P = np.random.uniform(0,1)*Rtotal\n",
    "        \n",
    "        if Rtotal>0:\n",
    "            times =times+ delta_t\n",
    "            event = np.min(np.where(P<=np.cumsum(rate)))\n",
    "            events.append(event)\n",
    "            event_time.append(times)\n",
    "            pop.append(pop[ind]+state[:,event])\n",
    "#             print(cuminf)\n",
    "            if event == 0:\n",
    "                num_external +=1\n",
    "                exposed +=1 \n",
    "            if event == 1:\n",
    "                num_internal +=1\n",
    "                exposed +=1\n",
    "            if event == 3:\n",
    "                death +=1 \n",
    "            if event == 2:\n",
    "                cuminf.append(1 +cuminf[ind] )\n",
    "            else:\n",
    "                cuminf.append(0 +cuminf[ind])\n",
    "            ind=ind+1\n",
    "#         print(pop[ind])\n",
    "        N = sum(pop[ind][:2])\n",
    "    return event_time, np.array(pop), events, cuminf, num_external, num_internal, death, exposed"
   ]
  },
  {
   "cell_type": "code",
   "execution_count": 96,
   "metadata": {},
   "outputs": [],
   "source": [
    "external = []\n",
    "internal = []\n",
    "total = []\n",
    "death = []\n",
    "exposed = []\n",
    "for k in range(5000):\n",
    "    beta = stats.gamma.rvs( a_β, loc_β, scale_β)\n",
    "    mu1 = 1/stats.gamma.rvs( a_μ1, loc_μ1, scale_μ1)\n",
    "    mu2 = 1/stats.gamma.rvs( a_μ2, loc_μ2, scale_μ2)\n",
    "    epsilon = stats.gamma.rvs( a_ϵ, loc_ϵ, scale_ϵ)\n",
    "    sigma = 1/stats.gamma.rvs( a_σ, loc_σ, scale_σ)\n",
    "    M=SEIRexposed(parameters[0], beta, mu1,mu2,\n",
    "                          sigma,epsilon)\n",
    "    external.append(M[4])\n",
    "    internal.append(M[5])\n",
    "    total.append(M[3][-1])\n",
    "    death.append(M[6])\n",
    "    exposed.append(M[7])"
   ]
  },
  {
   "cell_type": "code",
   "execution_count": 101,
   "metadata": {},
   "outputs": [
    {
     "data": {
      "text/plain": [
       "2"
      ]
     },
     "execution_count": 101,
     "metadata": {},
     "output_type": "execute_result"
    },
    {
     "data": {
      "image/png": "[encoded data removed]",
      "text/plain": [
       "<Figure size 432x288 with 1 Axes>"
      ]
     },
     "metadata": {},
     "output_type": "display_data"
    }
   ],
   "source": [
    "plt.hist(exposed, bins = np.max(exposed))\n",
    "stats.mode(exposed)[0][0]"
   ]
  },
  {
   "cell_type": "code",
   "execution_count": 99,
   "metadata": {},
   "outputs": [],
   "source": [
    "\n",
    "# Data_F04=pd.read_csv(\"Case_data/2004_F_cases.csv\",sep = ',', header = 0)\n",
    "# ############################# Spacing ##############################################\n",
    "# date_format = \"%d/%m/%y\"\n",
    "\n",
    "\n",
    "# def Spacing(dataset):\n",
    "#     record = []\n",
    "#     record.append(datetime.strptime(dataset['Date'][0], date_format).day)\n",
    "#     for i in range(1, len(dataset)):\n",
    "#         record.append(record[i-1]+(datetime.strptime(dataset['Date'][i], date_format)-datetime.strptime(dataset['Date'][i-1], date_format)).days)\n",
    "#     start_day = (datetime.strptime(Data_F04['Date'].values[0], date_format)-datetime.strptime('01/11/03', date_format)).days\n",
    "#     record = [int(a - record[0]) for a in record]\n",
    "#     record = [int(a +start_day) for a in record]\n",
    "\n",
    "#     return record\n",
    "\n",
    "# Rec_F04=Spacing(Data_F04)\n",
    "# Cum_F04 = Data_F04['CumsumInf'].values\n",
    "# leng = len(np.arange(0, Rec_F04[0], 2))\n",
    "# Rec_F04 = np.insert(Rec_F04, 0, np.arange(0, Rec_F04[0], 2))\n",
    "# Cum_F04 = np.insert(Cum_F04, 0, np.zeros(leng))\n",
    "# summary = np.array([Rec_F04, Cum_F04])\n",
    "# plt.plot(M[0], M[3])\n",
    "# plt.plot(summary[0][:20], summary[1][:20])"
   ]
  },
  {
   "cell_type": "code",
   "execution_count": null,
   "metadata": {},
   "outputs": [],
   "source": []
  },
  {
   "cell_type": "code",
   "execution_count": null,
   "metadata": {},
   "outputs": [],
   "source": []
  }
 ],
 "metadata": {
  "kernelspec": {
   "display_name": "Python 3",
   "language": "python",
   "name": "python3"
  },
  "language_info": {
   "codemirror_mode": {
    "name": "ipython",
    "version": 3
   },
   "file_extension": ".py",
   "mimetype": "text/x-python",
   "name": "python",
   "nbconvert_exporter": "python",
   "pygments_lexer": "ipython3",
   "version": "3.5.2"
  }
 },
 "nbformat": 4,
 "nbformat_minor": 2
}
