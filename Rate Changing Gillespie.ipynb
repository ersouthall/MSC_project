{
 "cells": [
  {
   "cell_type": "code",
   "execution_count": 1,
   "metadata": {},
   "outputs": [],
   "source": [
    "import numpy as np\n",
    "import matplotlib.pyplot as plt\n",
    "from scipy.integrate import odeint\n",
    "import math\n",
    "from scipy.interpolate import interp1d\n",
    "import seaborn as sns\n",
    "import pandas as pd\n",
    "from mpl_toolkits.mplot3d import Axes3D\n",
    "from matplotlib import cm\n",
    "from matplotlib.mlab import griddata"
   ]
  },
  {
   "cell_type": "code",
   "execution_count": null,
   "metadata": {},
   "outputs": [],
   "source": [
    "def gillespieSEIHR(initial, beta, mu1,mu2, sigma, omega,epsilon,alpha, mort, gam,  max_time):\n",
    "    event_time = []\n",
    "    pop = []\n",
    "    N = sum(initial)\n",
    "    pop.append(initial)\n",
    "    event_time.append(0)\n",
    "    times = 0\n",
    "    ind = 0\n",
    "    cuminf = []\n",
    "    cuminf.append(0)\n",
    "    events = []\n",
    "    while times <max_time and (pop[ind][1]+pop[ind][2]+pop[ind][3]>0):\n",
    "        state = np.zeros(shape= (5,12))\n",
    "        \n",
    "        ####################################################################################\n",
    "        #################################### EVENTS ########################################\n",
    "        ####################################################################################\n",
    "        \n",
    "        \n",
    "        R_se = beta*(pop[ind][0])*(pop[ind][2] + alpha*pop[ind][3])/N + epsilon*pop[ind][0] \n",
    "        state[:,0] = [-1, 1, 0, 0,0]\n",
    "        \n",
    "        R_ei = sigma*pop[ind][1]\n",
    "        state[:,1] = [0, -1, 1, 0,0]\n",
    "        \n",
    "        R_ih = omega*pop[ind][2]\n",
    "        state[:,2] = [0, 0, -1, 1, 0]\n",
    "        \n",
    "        R_ir = mort*mu1*pop[ind][2]\n",
    "        state[:,3] = [0,0,-1,0,1]\n",
    "        \n",
    "        R_hr = mort*mu2*pop[ind][3]\n",
    "        state[:,4] = [0,0,0,-1,1]\n",
    "\n",
    "        R_is = (1-mort)*mu1*pop[ind][2]\n",
    "        state[:,5] = [1,0,-1,0,0]\n",
    "\n",
    "        R_hs = (1-mort)*mu2*pop[ind][3]\n",
    "        state[:,6] = [1,0,0,-1,0]\n",
    "\n",
    "        rate = [R_se, R_ei, R_ih, R_ir, R_hr, R_is, R_hs]\n",
    "\n",
    "        Rtotal = sum(rate)\n",
    "        delta_t= -np.log(np.random.uniform(0,1))/Rtotal\n",
    "\n",
    "        P = np.random.uniform(0,1)*Rtotal\n",
    "        times =times+ delta_t\n",
    "        event = np.min(np.where(P<=np.cumsum(rate)))\n",
    "        events.append(event)\n",
    "        event_time.append(times)\n",
    "        pop.append(pop[ind]+state[:,event])\n",
    "        \n",
    "        if event == 1:\n",
    "            cuminf.append(1 )\n",
    "        else:\n",
    "            cuminf.append(0)\n",
    "        ind=ind+1\n",
    "        N = sum(pop[ind][:5])\n",
    "\n",
    "    return event_time, np.array(pop), events"
   ]
  },
  {
   "cell_type": "code",
   "execution_count": 293,
   "metadata": {},
   "outputs": [],
   "source": [
    "def epsilong(bb, tt, tau, e):\n",
    "    eps = np.zeros(len(tt))\n",
    "    y = np.where(np.sin(bb*(tt))>=0)\n",
    "    y = np.array(y)[0]\n",
    "    eps[y] = ([(e/bb)*(np.cos(bb*(tt[i]+tau))-np.cos(bb*tau)) for i in y])\n",
    "    return eps"
   ]
  },
  {
   "cell_type": "code",
   "execution_count": 301,
   "metadata": {},
   "outputs": [],
   "source": [
    "def CDF(max_time, dt, tau, beta, mu1,mu2, sigma, omega,epsilon,alpha, mort, Input, B ):\n",
    "    N = sum(Input)\n",
    "    tt = np.arange(0,max_time, dt)    \n",
    "    \n",
    "    mt = (sigma*Input[1] + (omega+mort*mu1)*Input[2] +\n",
    "         (mort*mu2 + (1-mort)*mu2)*Input[3] + \n",
    "         (beta/N)*Input[0]*(Input[2]+alpha*Input[3]))*tt - (epsilon/B)*epsilong(B,tt,tau, epsilon)*Input[0]\n",
    "    \n",
    "#     mt = (1/2)*tt\n",
    "    F = 1 - np.exp(-mt)\n",
    "    print(epsilong(B,tt,tau, epsilon))\n",
    "    return tt, F, mt\n",
    "    "
   ]
  },
  {
   "cell_type": "code",
   "execution_count": 303,
   "metadata": {},
   "outputs": [
    {
     "name": "stdout",
     "output_type": "stream",
     "text": [
      "[ 0.00000000e+00 -8.60710316e-10 -3.44284123e-09 ...  0.00000000e+00\n",
      "  0.00000000e+00  0.00000000e+00]\n"
     ]
    }
   ],
   "source": [
    "cdf_rate = CDF(1000, 0.01,0, 1, 1/7, 1/5, 1/5, 1/12, 0.001, 1, 0.7, [1500,1,0,0], 2*np.pi/365)"
   ]
  },
  {
   "cell_type": "code",
   "execution_count": 304,
   "metadata": {},
   "outputs": [],
   "source": [
    "tt = np.arange(0,10, 0.001)\n",
    "# [(1/(2*np.pi/365))*(np.maximum(np.cos((2*np.pi/365)*(tt +1)),0) -np.maximum(np.cos((2*np.pi/365)*1),0))*1000 if ]"
   ]
  },
  {
   "cell_type": "code",
   "execution_count": 305,
   "metadata": {},
   "outputs": [
    {
     "data": {
      "text/plain": [
       "[<matplotlib.lines.Line2D at 0x7fd2fc211048>]"
      ]
     },
     "execution_count": 305,
     "metadata": {},
     "output_type": "execute_result"
    },
    {
     "data": {
      "image/png": "[encoded data removed]",
      "text/plain": [
       "<Figure size 432x288 with 1 Axes>"
      ]
     },
     "metadata": {},
     "output_type": "display_data"
    }
   ],
   "source": [
    "plt.plot(cdf_rate[0], cdf_rate[1])"
   ]
  },
  {
   "cell_type": "code",
   "execution_count": 306,
   "metadata": {},
   "outputs": [],
   "source": [
    "def inverseCDF(t, F):\n",
    "    r = np.random.uniform(0,1)\n",
    "    s2 = np.min(np.where(F>r))\n",
    "    s1 = s2-1\n",
    "    \n",
    "    y2,y1 = F[s2], F[s1]\n",
    "    x2, x1 = t[s2], t[s1]\n",
    "    \n",
    "    m = (y2-y1)/(x2-x1)\n",
    "    tt = (r-y1)/m + x1\n",
    "    return tt"
   ]
  },
  {
   "cell_type": "code",
   "execution_count": 307,
   "metadata": {},
   "outputs": [],
   "source": [
    "time_steps = []\n",
    "for l in range(10000):\n",
    "    time_steps.append(inverseCDF(cdf_rate[0], cdf_rate[1]))"
   ]
  },
  {
   "cell_type": "code",
   "execution_count": 308,
   "metadata": {},
   "outputs": [
    {
     "data": {
      "text/plain": [
       "<matplotlib.axes._subplots.AxesSubplot at 0x7fd2fc1c3e80>"
      ]
     },
     "execution_count": 308,
     "metadata": {},
     "output_type": "execute_result"
    },
    {
     "data": {
      "image/png": "[encoded data removed]",
      "text/plain": [
       "<Figure size 432x288 with 1 Axes>"
      ]
     },
     "metadata": {},
     "output_type": "display_data"
    }
   ],
   "source": [
    "sns.kdeplot(time_steps, shade = True)\n",
    "# plt.hist(time_steps)"
   ]
  },
  {
   "cell_type": "code",
   "execution_count": null,
   "metadata": {},
   "outputs": [],
   "source": [
    "def changingGillespie(initial, beta, mu1,mu2, sigma, omega,epsilon,alpha, mort, B,  max_time):\n",
    "    event_time = []\n",
    "    pop = []\n",
    "    N = sum(initial)\n",
    "    pop.append(initial)\n",
    "    event_time.append(0)\n",
    "    times = 0\n",
    "    ind = 0\n",
    "    cuminf = []\n",
    "    cuminf.append(0)\n",
    "    events = []\n",
    "    while times <max_time and (pop[ind][1]+pop[ind][2]+pop[ind][3]>0):\n",
    "        state = np.zeros(shape= (5,12))\n",
    "        \n",
    "        ####################################################################################\n",
    "        #################################### EVENTS ########################################\n",
    "        ####################################################################################\n",
    "        \n",
    "        \n",
    "        R_se = beta*(pop[ind][0])*(pop[ind][2] + alpha*pop[ind][3])/N + epsilon*pop[ind][0]*\n",
    "        state[:,0] = [-1, 1, 0, 0,0]\n",
    "        \n",
    "        R_ei = sigma*pop[ind][1]\n",
    "        state[:,1] = [0, -1, 1, 0,0]\n",
    "        \n",
    "        R_ih = omega*pop[ind][2]\n",
    "        state[:,2] = [0, 0, -1, 1, 0]\n",
    "        \n",
    "        R_ir = mort*mu1*pop[ind][2]\n",
    "        state[:,3] = [0,0,-1,0,1]\n",
    "        \n",
    "        R_hr = mort*mu2*pop[ind][3]\n",
    "        state[:,4] = [0,0,0,-1,1]\n",
    "\n",
    "        R_is = (1-mort)*mu1*pop[ind][2]\n",
    "        state[:,5] = [1,0,-1,0,0]\n",
    "\n",
    "        R_hs = (1-mort)*mu2*pop[ind][3]\n",
    "        state[:,6] = [1,0,0,-1,0]\n",
    "\n",
    "        rate = [R_se, R_ei, R_ih, R_ir, R_hr, R_is, R_hs]\n",
    "\n",
    "        Rtotal = sum(rate)\n",
    "        delta_t= -np.log(np.random.uniform(0,1))/Rtotal\n",
    "\n",
    "        P = np.random.uniform(0,1)*Rtotal\n",
    "        times =times+ delta_t\n",
    "        event = np.min(np.where(P<=np.cumsum(rate)))\n",
    "        events.append(event)\n",
    "        event_time.append(times)\n",
    "        pop.append(pop[ind]+state[:,event])\n",
    "        \n",
    "        if event == 1:\n",
    "            cuminf.append(1 )\n",
    "        else:\n",
    "            cuminf.append(0)\n",
    "        ind=ind+1\n",
    "        N = sum(pop[ind][:5])\n",
    "\n",
    "    return event_time, np.array(pop), events"
   ]
  }
 ],
 "metadata": {
  "kernelspec": {
   "display_name": "Python 3",
   "language": "python",
   "name": "python3"
  },
  "language_info": {
   "codemirror_mode": {
    "name": "ipython",
    "version": 3
   },
   "file_extension": ".py",
   "mimetype": "text/x-python",
   "name": "python",
   "nbconvert_exporter": "python",
   "pygments_lexer": "ipython3",
   "version": "3.5.2"
  }
 },
 "nbformat": 4,
 "nbformat_minor": 2
}
